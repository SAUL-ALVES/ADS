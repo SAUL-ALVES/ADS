{
 "cells": [
  {
   "cell_type": "code",
   "execution_count": null,
   "metadata": {},
   "outputs": [],
   "source": [
    "\n",
    "# Exercício 3\n",
    "\n",
    "from random import choices, randint\n",
    "\n",
    "distancias = {\n",
    "    'AIUABA': {'AIUABA': 0, 'ARNEIROZ': 35, 'QUITERIANOPOLIS': 144, 'PARAMBU': 140, 'TAUA': 78},\n",
    "    'ARNEIROZ': {'AIUABA': 35, 'ARNEIROZ': 0, 'QUITERIANOPOLIS': 111, 'PARAMBU': 107, 'TAUA': 45},\n",
    "    'QUITERIANOPOLIS': {'AIUABA': 144, 'ARNEIROZ': 111, 'QUITERIANOPOLIS': 0, 'PARAMBU': 50, 'TAUA': 69},\n",
    "    'PARAMBU': {'AIUABA': 140, 'ARNEIROZ': 107, 'QUITERIANOPOLIS': 50, 'PARAMBU': 0, 'TAUA': 64},\n",
    "    'TAUA': {'AIUABA': 78, 'ARNEIROZ': 45, 'QUITERIANOPOLIS': 69, 'PARAMBU': 64, 'TAUA': 0}\n",
    "}\n",
    "\n",
    "cidades = ['AIUABA', 'ARNEIROZ', 'QUITERIANOPOLIS', 'PARAMBU', 'TAUA']\n",
    "\n",
    "\n",
    "numero_trechos = randint(2, 10)\n",
    "rota = choices(cidades, k=numero_trechos)\n",
    "\n",
    "total = 0\n",
    "\n",
    "for i in range(len(rota) - 1):\n",
    "    cidade_atual = rota[i]\n",
    "    cidade_proxima = rota[i + 1]\n",
    "    total += distancias[cidade_atual][cidade_proxima]\n",
    "\n",
    "print('Percurso:')\n",
    "print(' => '.join(rota))\n",
    "print(f'Total de {total} Km rodados')"
   ]
  }
 ],
 "metadata": {
  "language_info": {
   "name": "python"
  }
 },
 "nbformat": 4,
 "nbformat_minor": 2
}
