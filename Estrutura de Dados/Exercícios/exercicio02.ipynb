{
 "cells": [
  {
   "cell_type": "code",
   "execution_count": null,
   "metadata": {},
   "outputs": [],
   "source": [
    "# Exercício 2\n",
    "\n",
    "\n",
    "\n",
    "from random import randint\n",
    "\n",
    "print('                       ======== Lista de Compromissos ========         ')\n",
    "\n",
    "for i in range(1, 21):\n",
    "    dia = randint(1, 20)\n",
    "    mes = randint(1, 12)\n",
    "    ano = randint(2020, 2024)\n",
    "\n",
    "    hora = randint(0, 23)\n",
    "    min = randint(0, 59)\n",
    "\n",
    "    compromisso = {}\n",
    "    compromisso['Compromisso'] = f'Compromisso {i}:'\n",
    "    compromisso['Data'] = f'{dia}/{mes}/{ano}'\n",
    "    compromisso['Horário'] = f'{hora:02}:{min:02}'\n",
    "    compromisso['Texto'] = 'Compromisso de teste gerado aleatoriamente.'\n",
    "\n",
    "    print(f\"{compromisso['Compromisso']}\")\n",
    "    print(f\"Data: {compromisso['Data']}\")\n",
    "    print(f\"Horário: {compromisso['Horário']}\")\n",
    "    print(f\"Texto: {compromisso['Texto']}\")\n",
    "    print()\n",
    "\n"
   ]
  }
 ],
 "metadata": {
  "language_info": {
   "name": "python"
  }
 },
 "nbformat": 4,
 "nbformat_minor": 2
}
